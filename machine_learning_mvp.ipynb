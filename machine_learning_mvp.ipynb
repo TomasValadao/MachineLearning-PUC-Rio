{
  "nbformat": 4,
  "nbformat_minor": 0,
  "metadata": {
    "colab": {
      "provenance": [],
      "include_colab_link": true
    },
    "kernelspec": {
      "name": "python3",
      "display_name": "Python 3"
    },
    "language_info": {
      "name": "python"
    }
  },
  "cells": [
    {
      "cell_type": "markdown",
      "metadata": {
        "id": "view-in-github",
        "colab_type": "text"
      },
      "source": [
        "<a href=\"https://colab.research.google.com/github/TomasValadao/MachineLearning-PUC-Rio/blob/main/machine_learning_mvp.ipynb\" target=\"_parent\"><img src=\"https://colab.research.google.com/assets/colab-badge.svg\" alt=\"Open In Colab\"/></a>"
      ]
    },
    {
      "cell_type": "markdown",
      "source": [
        "# MVP: Machine Learning & Analytics\n",
        "## Tomás Cavalcante Valadão"
      ],
      "metadata": {
        "id": "Sq89ZPHaX1PA"
      }
    },
    {
      "cell_type": "code",
      "execution_count": null,
      "metadata": {
        "id": "jxEPDhHAXT1S"
      },
      "outputs": [],
      "source": []
    }
  ]
}